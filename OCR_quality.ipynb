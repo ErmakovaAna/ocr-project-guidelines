{
  "nbformat": 4,
  "nbformat_minor": 0,
  "metadata": {
    "colab": {
      "provenance": []
    },
    "kernelspec": {
      "name": "python3",
      "display_name": "Python 3"
    },
    "language_info": {
      "name": "python"
    }
  },
  "cells": [
    {
      "cell_type": "markdown",
      "source": [
        "# Оценка качества OCR с использованием метрик Precision, Recall и F1-мера"
      ],
      "metadata": {
        "id": "UkgnyJbkzF35"
      }
    },
    {
      "cell_type": "markdown",
      "source": [
        "## Импорт библиотек и загрузка файлов"
      ],
      "metadata": {
        "id": "oV6X35ov042D"
      }
    },
    {
      "cell_type": "code",
      "source": [
        "!pip install Levenshtein"
      ],
      "metadata": {
        "id": "53-nbVyr1CRA"
      },
      "execution_count": null,
      "outputs": []
    },
    {
      "cell_type": "code",
      "execution_count": 3,
      "metadata": {
        "id": "9Fxwr-O_zBC1"
      },
      "outputs": [],
      "source": [
        "import pandas as pd\n",
        "import Levenshtein as lev"
      ]
    },
    {
      "cell_type": "code",
      "source": [
        "ocr_output = \"\"\"Минусинскъ, окружный городъ Енисейской губерніи, расположенъ при устьѣ незначительной рѣки Мипусинки, при самомъ впаденіи ея въ рукавъ Енисея, главное русло котораго находится отъ города въ 8 верстахъ. Минусинскъ лежитъ подъ 55\" *2Г сѣверной широты и подъ 107” восточной долготы, разстояніемъ отъ С.-Петербурга въ 5,428 верстахъ, отъ Москвы въ 4,355, отъ Красноярска въ 552 и отъ китайской границы, пли отъ ближайшаго пограничнаго знака, находящагося на Енисеѣ и называемаго Бомъ-Кемчугъ, въ 445 верстахъ.\"\"\"\n",
        "ground_truth = \"\"\"Минусинскъ, окружный городъ Енисейской губерніи, расположенъ при устьѣ незначительной рѣки Минусинки, при самомъ впаденіи ея въ рукавъ Енисея, главное русло котораго находится отъ города въ 8 верстахъ. Минусинскъ лежитъ подъ 55°21' сѣверной широты и подъ 107° восточной долготы, разстояніемъ отъ С.-Петербурга въ 5,428 верстахъ, отъ Москвы въ 4,355, отъ Красноярска въ 552 и отъ китайской границы, или отъ ближайшаго пограничнаго знака, находящагося на Енисеѣ и называемаго Бомъ-Кемчугъ, въ 445 верстахъ.\"\"\""
      ],
      "metadata": {
        "id": "w23Ni_OZ0-gL"
      },
      "execution_count": 16,
      "outputs": []
    },
    {
      "cell_type": "markdown",
      "source": [
        "## Вычисление метрик"
      ],
      "metadata": {
        "id": "L1DtrHMR24pk"
      }
    },
    {
      "cell_type": "code",
      "source": [
        "def measure_quality(ocr_output, ground_truth):\n",
        "  \"\"\"\n",
        "  Calculates precision, recall, and F1-score\n",
        "  using the Levenshtein distance to compare text from OCR with ground truth data.\n",
        "\n",
        "  :param ocr_output: A text file containing the raw OCR results.\n",
        "  :param ground_truth: A text file containing the verified ground truth text.\n",
        "  \"\"\"\n",
        "\n",
        "  matching_parts = lev.matching_blocks(lev.editops(ocr_output, ground_truth), ocr_output, ground_truth)\n",
        "  true_pos = len(''.join([ocr_output[x[0]:x[0]+x[2]] for x in matching_parts]))\n",
        "\n",
        "  precision = true_pos / len(ground_truth)\n",
        "  recall = true_pos / len(ocr_output)\n",
        "  f_score = 2 * ((precision * recall) / (precision + recall))\n",
        "\n",
        "  return precision, recall, f_score"
      ],
      "metadata": {
        "id": "zSphJkIZ29Bs"
      },
      "execution_count": 17,
      "outputs": []
    },
    {
      "cell_type": "code",
      "source": [
        "precision, recall, f_score = measure_quality(ocr_output, ground_truth)"
      ],
      "metadata": {
        "id": "8FbEHFeX4Txd"
      },
      "execution_count": 18,
      "outputs": []
    },
    {
      "cell_type": "code",
      "source": [
        "print(f'Precision: {round(precision, 4)}\\nRecall: {round(recall, 4)}\\nF1-score: {round(f_score, 4)}')"
      ],
      "metadata": {
        "colab": {
          "base_uri": "https://localhost:8080/"
        },
        "id": "ja0aD0JI4dyL",
        "outputId": "bd8b8950-ecf0-446d-8418-1e849aab5678"
      },
      "execution_count": 21,
      "outputs": [
        {
          "output_type": "stream",
          "name": "stdout",
          "text": [
            "Precision: 0.9861\n",
            "Recall: 0.9842\n",
            "F1-score: 0.9851\n"
          ]
        }
      ]
    },
    {
      "cell_type": "code",
      "source": [],
      "metadata": {
        "id": "_STNqlak6ZFV"
      },
      "execution_count": null,
      "outputs": []
    }
  ]
}